{
  "nbformat": 4,
  "nbformat_minor": 0,
  "metadata": {
    "colab": {
      "provenance": []
    },
    "kernelspec": {
      "name": "python3",
      "display_name": "Python 3"
    },
    "language_info": {
      "name": "python"
    }
  },
  "cells": [
    {
      "cell_type": "code",
      "source": [
        "import matplotlib.pyplot as plt\n",
        "import random\n",
        "import numpy as np\n",
        "import math\n",
        "names = [str(i) for i in range(10)]\n",
        "x = random.sample(range(0, 50), 10)\n",
        "y = random.sample(range(0, 50), 10)\n",
        "coords = list(zip(x, y))\n",
        "plt.scatter(x, y)\n",
        "for index, point in enumerate(coords):\n",
        "  plt.text(point[0], point[1], names[index])\n",
        "plt.show()"
      ],
      "metadata": {
        "colab": {
          "base_uri": "https://localhost:8080/",
          "height": 433
        },
        "id": "_TiyV3TaxSKs",
        "outputId": "0647fe51-6952-4510-fa8c-4021b833d730"
      },
      "execution_count": null,
      "outputs": [
        {
          "output_type": "display_data",
          "data": {
            "text/plain": [
              "<Figure size 640x480 with 1 Axes>"
            ],
            "image/png": "[encoded data removed]"
          },
          "metadata": {}
        }
      ]
    },
    {
      "cell_type": "code",
      "execution_count": null,
      "metadata": {
        "colab": {
          "base_uri": "https://localhost:8080/"
        },
        "id": "a3H4FNsKwrSh",
        "outputId": "38fb2e44-4154-4883-fd27-0c27fc034f93"
      },
      "outputs": [
        {
          "output_type": "stream",
          "name": "stdout",
          "text": [
            "[array([19, 29]), array([11,  9]), array([39, 10]), array([40, 27]), array([9, 1]), array([34, 11]), array([24, 39]), array([25, 48]), array([43, 46]), array([ 5, 14])]\n",
            "Наименьший путь: 143.2108547345994\n",
            "Путь: [0, 9, 1, 4, 5, 2, 3, 8, 7, 6, 0]\n"
          ]
        }
      ],
      "source": [
        "\n",
        "from itertools import combinations, cycle\n",
        "\n",
        "def calculate_distance(point1, point2):\n",
        "    return np.linalg.norm(point1 - point2)\n",
        "\n",
        "def tsp_dynamic_programming(points):\n",
        "    num_points = len(points)\n",
        "\n",
        "    dp = np.full((2**num_points, num_points), np.inf)\n",
        "    path = np.zeros((2**num_points, num_points), dtype=int)\n",
        "    # Инициализация базовых случаев\n",
        "    dp[1][0] = 0\n",
        "\n",
        "\n",
        "    for subset_size in range(2, num_points + 1):\n",
        "        for subset in combinations(range(1, num_points), subset_size - 1):\n",
        "            subset = (0,) + subset\n",
        "            subset_index = sum(2**i for i in subset)\n",
        "            for j in subset:\n",
        "                if j == 0:\n",
        "                    continue\n",
        "                for k in subset:\n",
        "                    if k == j:\n",
        "                        continue\n",
        "                    distance = dp[subset_index - 2**j][k] + calculate_distance(points[k], points[j])\n",
        "                    if distance < dp[subset_index][j]:\n",
        "                        dp[subset_index][j] = distance\n",
        "                        path[subset_index][j] = k\n",
        "\n",
        "    # Вычисление наименьшего пути через все точки\n",
        "    min_distance = np.inf\n",
        "    last_index = 2**num_points - 1\n",
        "    last_point = None\n",
        "    for j in range(1, num_points):\n",
        "        distance = dp[last_index][j] + calculate_distance(points[j], points[0])\n",
        "        if distance < min_distance:\n",
        "            min_distance = distance\n",
        "            last_point = j\n",
        "    #print(path)\n",
        "    # Восстановление пройденного пути\n",
        "    best_path = [last_point]\n",
        "    subset_index = last_index\n",
        "    for _ in range(num_points - 1):\n",
        "        prev_point = path[subset_index][last_point]\n",
        "        best_path.append(prev_point)\n",
        "        subset_index -= 2 ** last_point\n",
        "        last_point = prev_point\n",
        "    best_path = best_path[::-1]\n",
        "\n",
        "    # Добавление исходной точки в конец пути\n",
        "    best_path.append(0)\n",
        "    min_distance += calculate_distance(points[last_point], points[0])\n",
        "\n",
        "    return min_distance, best_path\n",
        "\n",
        "# Создаем случайные точки на координатной плоскости\n",
        "points = [np.array(i) for i in coords]\n",
        "print(points)\n",
        "\n",
        "min_distance, way = tsp_dynamic_programming(points)\n",
        "\n",
        "print(\"Наименьший путь:\", min_distance)\n",
        "print(\"Путь:\", way)"
      ]
    },
    {
      "cell_type": "code",
      "source": [],
      "metadata": {
        "id": "93VvDa-XzJbF"
      },
      "execution_count": null,
      "outputs": []
    }
  ]
}